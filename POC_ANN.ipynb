{
  "nbformat": 4,
  "nbformat_minor": 0,
  "metadata": {
    "colab": {
      "provenance": [],
      "collapsed_sections": [],
      "mount_file_id": "11EI8IvR069ERNHIeGmXLm1vo6R_PAf60",
      "authorship_tag": "ABX9TyP1CBFExMWAXsCkvtyajqOi",
      "include_colab_link": true
    },
    "kernelspec": {
      "name": "python3",
      "display_name": "Python 3"
    },
    "language_info": {
      "name": "python"
    }
  },
  "cells": [
    {
      "cell_type": "markdown",
      "metadata": {
        "id": "view-in-github",
        "colab_type": "text"
      },
      "source": [
        "<a href=\"https://colab.research.google.com/github/SaurabhSRP/POC-ANN/blob/main/POC_ANN.ipynb\" target=\"_parent\"><img src=\"https://colab.research.google.com/assets/colab-badge.svg\" alt=\"Open In Colab\"/></a>"
      ]
    },
    {
      "cell_type": "code",
      "execution_count": null,
      "metadata": {
        "colab": {
          "base_uri": "https://localhost:8080/"
        },
        "id": "nwcGeIPya6XZ",
        "outputId": "8eb14360-9208-4fb6-e9e5-89390bcb633b"
      },
      "outputs": [
        {
          "output_type": "stream",
          "name": "stdout",
          "text": [
            "Looking in indexes: https://pypi.org/simple, https://us-python.pkg.dev/colab-wheels/public/simple/\n",
            "Requirement already satisfied: tensorflow-gpu in /usr/local/lib/python3.7/dist-packages (2.10.0)\n",
            "Requirement already satisfied: tensorflow-estimator<2.11,>=2.10.0 in /usr/local/lib/python3.7/dist-packages (from tensorflow-gpu) (2.10.0)\n",
            "Requirement already satisfied: keras-preprocessing>=1.1.1 in /usr/local/lib/python3.7/dist-packages (from tensorflow-gpu) (1.1.2)\n",
            "Requirement already satisfied: keras<2.11,>=2.10.0 in /usr/local/lib/python3.7/dist-packages (from tensorflow-gpu) (2.10.0)\n",
            "Requirement already satisfied: h5py>=2.9.0 in /usr/local/lib/python3.7/dist-packages (from tensorflow-gpu) (3.1.0)\n",
            "Requirement already satisfied: wrapt>=1.11.0 in /usr/local/lib/python3.7/dist-packages (from tensorflow-gpu) (1.14.1)\n",
            "Requirement already satisfied: protobuf<3.20,>=3.9.2 in /usr/local/lib/python3.7/dist-packages (from tensorflow-gpu) (3.17.3)\n",
            "Requirement already satisfied: flatbuffers>=2.0 in /usr/local/lib/python3.7/dist-packages (from tensorflow-gpu) (2.0.7)\n",
            "Requirement already satisfied: tensorflow-io-gcs-filesystem>=0.23.1 in /usr/local/lib/python3.7/dist-packages (from tensorflow-gpu) (0.26.0)\n",
            "Requirement already satisfied: termcolor>=1.1.0 in /usr/local/lib/python3.7/dist-packages (from tensorflow-gpu) (1.1.0)\n",
            "Requirement already satisfied: packaging in /usr/local/lib/python3.7/dist-packages (from tensorflow-gpu) (21.3)\n",
            "Requirement already satisfied: typing-extensions>=3.6.6 in /usr/local/lib/python3.7/dist-packages (from tensorflow-gpu) (4.1.1)\n",
            "Requirement already satisfied: numpy>=1.20 in /usr/local/lib/python3.7/dist-packages (from tensorflow-gpu) (1.21.6)\n",
            "Requirement already satisfied: astunparse>=1.6.0 in /usr/local/lib/python3.7/dist-packages (from tensorflow-gpu) (1.6.3)\n",
            "Requirement already satisfied: google-pasta>=0.1.1 in /usr/local/lib/python3.7/dist-packages (from tensorflow-gpu) (0.2.0)\n",
            "Requirement already satisfied: opt-einsum>=2.3.2 in /usr/local/lib/python3.7/dist-packages (from tensorflow-gpu) (3.3.0)\n",
            "Requirement already satisfied: setuptools in /usr/local/lib/python3.7/dist-packages (from tensorflow-gpu) (57.4.0)\n",
            "Requirement already satisfied: absl-py>=1.0.0 in /usr/local/lib/python3.7/dist-packages (from tensorflow-gpu) (1.2.0)\n",
            "Requirement already satisfied: six>=1.12.0 in /usr/local/lib/python3.7/dist-packages (from tensorflow-gpu) (1.15.0)\n",
            "Requirement already satisfied: grpcio<2.0,>=1.24.3 in /usr/local/lib/python3.7/dist-packages (from tensorflow-gpu) (1.48.1)\n",
            "Requirement already satisfied: gast<=0.4.0,>=0.2.1 in /usr/local/lib/python3.7/dist-packages (from tensorflow-gpu) (0.4.0)\n",
            "Requirement already satisfied: libclang>=13.0.0 in /usr/local/lib/python3.7/dist-packages (from tensorflow-gpu) (14.0.6)\n",
            "Requirement already satisfied: tensorboard<2.11,>=2.10 in /usr/local/lib/python3.7/dist-packages (from tensorflow-gpu) (2.10.0)\n",
            "Requirement already satisfied: wheel<1.0,>=0.23.0 in /usr/local/lib/python3.7/dist-packages (from astunparse>=1.6.0->tensorflow-gpu) (0.37.1)\n",
            "Requirement already satisfied: cached-property in /usr/local/lib/python3.7/dist-packages (from h5py>=2.9.0->tensorflow-gpu) (1.5.2)\n",
            "Requirement already satisfied: google-auth-oauthlib<0.5,>=0.4.1 in /usr/local/lib/python3.7/dist-packages (from tensorboard<2.11,>=2.10->tensorflow-gpu) (0.4.6)\n",
            "Requirement already satisfied: requests<3,>=2.21.0 in /usr/local/lib/python3.7/dist-packages (from tensorboard<2.11,>=2.10->tensorflow-gpu) (2.23.0)\n",
            "Requirement already satisfied: markdown>=2.6.8 in /usr/local/lib/python3.7/dist-packages (from tensorboard<2.11,>=2.10->tensorflow-gpu) (3.4.1)\n",
            "Requirement already satisfied: google-auth<3,>=1.6.3 in /usr/local/lib/python3.7/dist-packages (from tensorboard<2.11,>=2.10->tensorflow-gpu) (1.35.0)\n",
            "Requirement already satisfied: tensorboard-plugin-wit>=1.6.0 in /usr/local/lib/python3.7/dist-packages (from tensorboard<2.11,>=2.10->tensorflow-gpu) (1.8.1)\n",
            "Requirement already satisfied: werkzeug>=1.0.1 in /usr/local/lib/python3.7/dist-packages (from tensorboard<2.11,>=2.10->tensorflow-gpu) (1.0.1)\n",
            "Requirement already satisfied: tensorboard-data-server<0.7.0,>=0.6.0 in /usr/local/lib/python3.7/dist-packages (from tensorboard<2.11,>=2.10->tensorflow-gpu) (0.6.1)\n",
            "Requirement already satisfied: cachetools<5.0,>=2.0.0 in /usr/local/lib/python3.7/dist-packages (from google-auth<3,>=1.6.3->tensorboard<2.11,>=2.10->tensorflow-gpu) (4.2.4)\n",
            "Requirement already satisfied: rsa<5,>=3.1.4 in /usr/local/lib/python3.7/dist-packages (from google-auth<3,>=1.6.3->tensorboard<2.11,>=2.10->tensorflow-gpu) (4.9)\n",
            "Requirement already satisfied: pyasn1-modules>=0.2.1 in /usr/local/lib/python3.7/dist-packages (from google-auth<3,>=1.6.3->tensorboard<2.11,>=2.10->tensorflow-gpu) (0.2.8)\n",
            "Requirement already satisfied: requests-oauthlib>=0.7.0 in /usr/local/lib/python3.7/dist-packages (from google-auth-oauthlib<0.5,>=0.4.1->tensorboard<2.11,>=2.10->tensorflow-gpu) (1.3.1)\n",
            "Requirement already satisfied: importlib-metadata>=4.4 in /usr/local/lib/python3.7/dist-packages (from markdown>=2.6.8->tensorboard<2.11,>=2.10->tensorflow-gpu) (4.12.0)\n",
            "Requirement already satisfied: zipp>=0.5 in /usr/local/lib/python3.7/dist-packages (from importlib-metadata>=4.4->markdown>=2.6.8->tensorboard<2.11,>=2.10->tensorflow-gpu) (3.8.1)\n",
            "Requirement already satisfied: pyasn1<0.5.0,>=0.4.6 in /usr/local/lib/python3.7/dist-packages (from pyasn1-modules>=0.2.1->google-auth<3,>=1.6.3->tensorboard<2.11,>=2.10->tensorflow-gpu) (0.4.8)\n",
            "Requirement already satisfied: urllib3!=1.25.0,!=1.25.1,<1.26,>=1.21.1 in /usr/local/lib/python3.7/dist-packages (from requests<3,>=2.21.0->tensorboard<2.11,>=2.10->tensorflow-gpu) (1.24.3)\n",
            "Requirement already satisfied: idna<3,>=2.5 in /usr/local/lib/python3.7/dist-packages (from requests<3,>=2.21.0->tensorboard<2.11,>=2.10->tensorflow-gpu) (2.10)\n",
            "Requirement already satisfied: certifi>=2017.4.17 in /usr/local/lib/python3.7/dist-packages (from requests<3,>=2.21.0->tensorboard<2.11,>=2.10->tensorflow-gpu) (2022.6.15)\n",
            "Requirement already satisfied: chardet<4,>=3.0.2 in /usr/local/lib/python3.7/dist-packages (from requests<3,>=2.21.0->tensorboard<2.11,>=2.10->tensorflow-gpu) (3.0.4)\n",
            "Requirement already satisfied: oauthlib>=3.0.0 in /usr/local/lib/python3.7/dist-packages (from requests-oauthlib>=0.7.0->google-auth-oauthlib<0.5,>=0.4.1->tensorboard<2.11,>=2.10->tensorflow-gpu) (3.2.0)\n",
            "Requirement already satisfied: pyparsing!=3.0.5,>=2.0.2 in /usr/local/lib/python3.7/dist-packages (from packaging->tensorflow-gpu) (3.0.9)\n"
          ]
        }
      ],
      "source": [
        "!pip install tensorflow-gpu"
      ]
    },
    {
      "cell_type": "code",
      "source": [
        "import tensorflow as tf\n",
        "print(tf.__version__)"
      ],
      "metadata": {
        "colab": {
          "base_uri": "https://localhost:8080/"
        },
        "id": "_vp_B27JcAiy",
        "outputId": "8d4dbaef-795f-4d50-defc-c920abb9a7b7"
      },
      "execution_count": null,
      "outputs": [
        {
          "output_type": "stream",
          "name": "stdout",
          "text": [
            "2.10.0\n"
          ]
        }
      ]
    },
    {
      "cell_type": "code",
      "source": [
        "##Import some basic libraries\n",
        "import pandas as pd\n",
        "import numpy as np\n",
        "import matplotlib.pyplot as plt\n",
        "import seaborn as sns"
      ],
      "metadata": {
        "id": "EG-qdNNocXZ-"
      },
      "execution_count": null,
      "outputs": []
    },
    {
      "cell_type": "code",
      "source": [
        "dataset=pd.read_csv('/content/drive/MyDrive/datasets/ANN/Churn_Modelling.csv')\n",
        "dataset.head()"
      ],
      "metadata": {
        "colab": {
          "base_uri": "https://localhost:8080/",
          "height": 270
        },
        "id": "m03wNYgscz8a",
        "outputId": "02b5b2e8-0e53-4177-c90f-ad6ad675218e"
      },
      "execution_count": null,
      "outputs": [
        {
          "output_type": "execute_result",
          "data": {
            "text/plain": [
              "   RowNumber  CustomerId   Surname  CreditScore Geography  Gender  Age  \\\n",
              "0          1    15634602  Hargrave          619    France  Female   42   \n",
              "1          2    15647311      Hill          608     Spain  Female   41   \n",
              "2          3    15619304      Onio          502    France  Female   42   \n",
              "3          4    15701354      Boni          699    France  Female   39   \n",
              "4          5    15737888  Mitchell          850     Spain  Female   43   \n",
              "\n",
              "   Tenure    Balance  NumOfProducts  HasCrCard  IsActiveMember  \\\n",
              "0       2       0.00              1          1               1   \n",
              "1       1   83807.86              1          0               1   \n",
              "2       8  159660.80              3          1               0   \n",
              "3       1       0.00              2          0               0   \n",
              "4       2  125510.82              1          1               1   \n",
              "\n",
              "   EstimatedSalary  Exited  \n",
              "0        101348.88       1  \n",
              "1        112542.58       0  \n",
              "2        113931.57       1  \n",
              "3         93826.63       0  \n",
              "4         79084.10       0  "
            ],
            "text/html": [
              "\n",
              "  <div id=\"df-2cd1ba25-d298-4ab6-8485-c5b68682dd53\">\n",
              "    <div class=\"colab-df-container\">\n",
              "      <div>\n",
              "<style scoped>\n",
              "    .dataframe tbody tr th:only-of-type {\n",
              "        vertical-align: middle;\n",
              "    }\n",
              "\n",
              "    .dataframe tbody tr th {\n",
              "        vertical-align: top;\n",
              "    }\n",
              "\n",
              "    .dataframe thead th {\n",
              "        text-align: right;\n",
              "    }\n",
              "</style>\n",
              "<table border=\"1\" class=\"dataframe\">\n",
              "  <thead>\n",
              "    <tr style=\"text-align: right;\">\n",
              "      <th></th>\n",
              "      <th>RowNumber</th>\n",
              "      <th>CustomerId</th>\n",
              "      <th>Surname</th>\n",
              "      <th>CreditScore</th>\n",
              "      <th>Geography</th>\n",
              "      <th>Gender</th>\n",
              "      <th>Age</th>\n",
              "      <th>Tenure</th>\n",
              "      <th>Balance</th>\n",
              "      <th>NumOfProducts</th>\n",
              "      <th>HasCrCard</th>\n",
              "      <th>IsActiveMember</th>\n",
              "      <th>EstimatedSalary</th>\n",
              "      <th>Exited</th>\n",
              "    </tr>\n",
              "  </thead>\n",
              "  <tbody>\n",
              "    <tr>\n",
              "      <th>0</th>\n",
              "      <td>1</td>\n",
              "      <td>15634602</td>\n",
              "      <td>Hargrave</td>\n",
              "      <td>619</td>\n",
              "      <td>France</td>\n",
              "      <td>Female</td>\n",
              "      <td>42</td>\n",
              "      <td>2</td>\n",
              "      <td>0.00</td>\n",
              "      <td>1</td>\n",
              "      <td>1</td>\n",
              "      <td>1</td>\n",
              "      <td>101348.88</td>\n",
              "      <td>1</td>\n",
              "    </tr>\n",
              "    <tr>\n",
              "      <th>1</th>\n",
              "      <td>2</td>\n",
              "      <td>15647311</td>\n",
              "      <td>Hill</td>\n",
              "      <td>608</td>\n",
              "      <td>Spain</td>\n",
              "      <td>Female</td>\n",
              "      <td>41</td>\n",
              "      <td>1</td>\n",
              "      <td>83807.86</td>\n",
              "      <td>1</td>\n",
              "      <td>0</td>\n",
              "      <td>1</td>\n",
              "      <td>112542.58</td>\n",
              "      <td>0</td>\n",
              "    </tr>\n",
              "    <tr>\n",
              "      <th>2</th>\n",
              "      <td>3</td>\n",
              "      <td>15619304</td>\n",
              "      <td>Onio</td>\n",
              "      <td>502</td>\n",
              "      <td>France</td>\n",
              "      <td>Female</td>\n",
              "      <td>42</td>\n",
              "      <td>8</td>\n",
              "      <td>159660.80</td>\n",
              "      <td>3</td>\n",
              "      <td>1</td>\n",
              "      <td>0</td>\n",
              "      <td>113931.57</td>\n",
              "      <td>1</td>\n",
              "    </tr>\n",
              "    <tr>\n",
              "      <th>3</th>\n",
              "      <td>4</td>\n",
              "      <td>15701354</td>\n",
              "      <td>Boni</td>\n",
              "      <td>699</td>\n",
              "      <td>France</td>\n",
              "      <td>Female</td>\n",
              "      <td>39</td>\n",
              "      <td>1</td>\n",
              "      <td>0.00</td>\n",
              "      <td>2</td>\n",
              "      <td>0</td>\n",
              "      <td>0</td>\n",
              "      <td>93826.63</td>\n",
              "      <td>0</td>\n",
              "    </tr>\n",
              "    <tr>\n",
              "      <th>4</th>\n",
              "      <td>5</td>\n",
              "      <td>15737888</td>\n",
              "      <td>Mitchell</td>\n",
              "      <td>850</td>\n",
              "      <td>Spain</td>\n",
              "      <td>Female</td>\n",
              "      <td>43</td>\n",
              "      <td>2</td>\n",
              "      <td>125510.82</td>\n",
              "      <td>1</td>\n",
              "      <td>1</td>\n",
              "      <td>1</td>\n",
              "      <td>79084.10</td>\n",
              "      <td>0</td>\n",
              "    </tr>\n",
              "  </tbody>\n",
              "</table>\n",
              "</div>\n",
              "      <button class=\"colab-df-convert\" onclick=\"convertToInteractive('df-2cd1ba25-d298-4ab6-8485-c5b68682dd53')\"\n",
              "              title=\"Convert this dataframe to an interactive table.\"\n",
              "              style=\"display:none;\">\n",
              "        \n",
              "  <svg xmlns=\"http://www.w3.org/2000/svg\" height=\"24px\"viewBox=\"0 0 24 24\"\n",
              "       width=\"24px\">\n",
              "    <path d=\"M0 0h24v24H0V0z\" fill=\"none\"/>\n",
              "    <path d=\"M18.56 5.44l.94 2.06.94-2.06 2.06-.94-2.06-.94-.94-2.06-.94 2.06-2.06.94zm-11 1L8.5 8.5l.94-2.06 2.06-.94-2.06-.94L8.5 2.5l-.94 2.06-2.06.94zm10 10l.94 2.06.94-2.06 2.06-.94-2.06-.94-.94-2.06-.94 2.06-2.06.94z\"/><path d=\"M17.41 7.96l-1.37-1.37c-.4-.4-.92-.59-1.43-.59-.52 0-1.04.2-1.43.59L10.3 9.45l-7.72 7.72c-.78.78-.78 2.05 0 2.83L4 21.41c.39.39.9.59 1.41.59.51 0 1.02-.2 1.41-.59l7.78-7.78 2.81-2.81c.8-.78.8-2.07 0-2.86zM5.41 20L4 18.59l7.72-7.72 1.47 1.35L5.41 20z\"/>\n",
              "  </svg>\n",
              "      </button>\n",
              "      \n",
              "  <style>\n",
              "    .colab-df-container {\n",
              "      display:flex;\n",
              "      flex-wrap:wrap;\n",
              "      gap: 12px;\n",
              "    }\n",
              "\n",
              "    .colab-df-convert {\n",
              "      background-color: #E8F0FE;\n",
              "      border: none;\n",
              "      border-radius: 50%;\n",
              "      cursor: pointer;\n",
              "      display: none;\n",
              "      fill: #1967D2;\n",
              "      height: 32px;\n",
              "      padding: 0 0 0 0;\n",
              "      width: 32px;\n",
              "    }\n",
              "\n",
              "    .colab-df-convert:hover {\n",
              "      background-color: #E2EBFA;\n",
              "      box-shadow: 0px 1px 2px rgba(60, 64, 67, 0.3), 0px 1px 3px 1px rgba(60, 64, 67, 0.15);\n",
              "      fill: #174EA6;\n",
              "    }\n",
              "\n",
              "    [theme=dark] .colab-df-convert {\n",
              "      background-color: #3B4455;\n",
              "      fill: #D2E3FC;\n",
              "    }\n",
              "\n",
              "    [theme=dark] .colab-df-convert:hover {\n",
              "      background-color: #434B5C;\n",
              "      box-shadow: 0px 1px 3px 1px rgba(0, 0, 0, 0.15);\n",
              "      filter: drop-shadow(0px 1px 2px rgba(0, 0, 0, 0.3));\n",
              "      fill: #FFFFFF;\n",
              "    }\n",
              "  </style>\n",
              "\n",
              "      <script>\n",
              "        const buttonEl =\n",
              "          document.querySelector('#df-2cd1ba25-d298-4ab6-8485-c5b68682dd53 button.colab-df-convert');\n",
              "        buttonEl.style.display =\n",
              "          google.colab.kernel.accessAllowed ? 'block' : 'none';\n",
              "\n",
              "        async function convertToInteractive(key) {\n",
              "          const element = document.querySelector('#df-2cd1ba25-d298-4ab6-8485-c5b68682dd53');\n",
              "          const dataTable =\n",
              "            await google.colab.kernel.invokeFunction('convertToInteractive',\n",
              "                                                     [key], {});\n",
              "          if (!dataTable) return;\n",
              "\n",
              "          const docLinkHtml = 'Like what you see? Visit the ' +\n",
              "            '<a target=\"_blank\" href=https://colab.research.google.com/notebooks/data_table.ipynb>data table notebook</a>'\n",
              "            + ' to learn more about interactive tables.';\n",
              "          element.innerHTML = '';\n",
              "          dataTable['output_type'] = 'display_data';\n",
              "          await google.colab.output.renderOutput(dataTable, element);\n",
              "          const docLink = document.createElement('div');\n",
              "          docLink.innerHTML = docLinkHtml;\n",
              "          element.appendChild(docLink);\n",
              "        }\n",
              "      </script>\n",
              "    </div>\n",
              "  </div>\n",
              "  "
            ]
          },
          "metadata": {},
          "execution_count": 18
        }
      ]
    },
    {
      "cell_type": "code",
      "source": [
        "###Divide independent and dependent features\n",
        "X=dataset.iloc[:,3:13]\n",
        "y=dataset.iloc[:,13]"
      ],
      "metadata": {
        "id": "VnQwctPQc7-p"
      },
      "execution_count": null,
      "outputs": []
    },
    {
      "cell_type": "code",
      "source": [
        "X.head()"
      ],
      "metadata": {
        "colab": {
          "base_uri": "https://localhost:8080/",
          "height": 206
        },
        "id": "sywFfVIId1eq",
        "outputId": "25564cf5-c144-48d4-e47f-560532b51dca"
      },
      "execution_count": null,
      "outputs": [
        {
          "output_type": "execute_result",
          "data": {
            "text/plain": [
              "   CreditScore Geography  Gender  Age  Tenure    Balance  NumOfProducts  \\\n",
              "0          619    France  Female   42       2       0.00              1   \n",
              "1          608     Spain  Female   41       1   83807.86              1   \n",
              "2          502    France  Female   42       8  159660.80              3   \n",
              "3          699    France  Female   39       1       0.00              2   \n",
              "4          850     Spain  Female   43       2  125510.82              1   \n",
              "\n",
              "   HasCrCard  IsActiveMember  EstimatedSalary  \n",
              "0          1               1        101348.88  \n",
              "1          0               1        112542.58  \n",
              "2          1               0        113931.57  \n",
              "3          0               0         93826.63  \n",
              "4          1               1         79084.10  "
            ],
            "text/html": [
              "\n",
              "  <div id=\"df-a28ff36b-247b-4774-9e41-33acb3dc5cf2\">\n",
              "    <div class=\"colab-df-container\">\n",
              "      <div>\n",
              "<style scoped>\n",
              "    .dataframe tbody tr th:only-of-type {\n",
              "        vertical-align: middle;\n",
              "    }\n",
              "\n",
              "    .dataframe tbody tr th {\n",
              "        vertical-align: top;\n",
              "    }\n",
              "\n",
              "    .dataframe thead th {\n",
              "        text-align: right;\n",
              "    }\n",
              "</style>\n",
              "<table border=\"1\" class=\"dataframe\">\n",
              "  <thead>\n",
              "    <tr style=\"text-align: right;\">\n",
              "      <th></th>\n",
              "      <th>CreditScore</th>\n",
              "      <th>Geography</th>\n",
              "      <th>Gender</th>\n",
              "      <th>Age</th>\n",
              "      <th>Tenure</th>\n",
              "      <th>Balance</th>\n",
              "      <th>NumOfProducts</th>\n",
              "      <th>HasCrCard</th>\n",
              "      <th>IsActiveMember</th>\n",
              "      <th>EstimatedSalary</th>\n",
              "    </tr>\n",
              "  </thead>\n",
              "  <tbody>\n",
              "    <tr>\n",
              "      <th>0</th>\n",
              "      <td>619</td>\n",
              "      <td>France</td>\n",
              "      <td>Female</td>\n",
              "      <td>42</td>\n",
              "      <td>2</td>\n",
              "      <td>0.00</td>\n",
              "      <td>1</td>\n",
              "      <td>1</td>\n",
              "      <td>1</td>\n",
              "      <td>101348.88</td>\n",
              "    </tr>\n",
              "    <tr>\n",
              "      <th>1</th>\n",
              "      <td>608</td>\n",
              "      <td>Spain</td>\n",
              "      <td>Female</td>\n",
              "      <td>41</td>\n",
              "      <td>1</td>\n",
              "      <td>83807.86</td>\n",
              "      <td>1</td>\n",
              "      <td>0</td>\n",
              "      <td>1</td>\n",
              "      <td>112542.58</td>\n",
              "    </tr>\n",
              "    <tr>\n",
              "      <th>2</th>\n",
              "      <td>502</td>\n",
              "      <td>France</td>\n",
              "      <td>Female</td>\n",
              "      <td>42</td>\n",
              "      <td>8</td>\n",
              "      <td>159660.80</td>\n",
              "      <td>3</td>\n",
              "      <td>1</td>\n",
              "      <td>0</td>\n",
              "      <td>113931.57</td>\n",
              "    </tr>\n",
              "    <tr>\n",
              "      <th>3</th>\n",
              "      <td>699</td>\n",
              "      <td>France</td>\n",
              "      <td>Female</td>\n",
              "      <td>39</td>\n",
              "      <td>1</td>\n",
              "      <td>0.00</td>\n",
              "      <td>2</td>\n",
              "      <td>0</td>\n",
              "      <td>0</td>\n",
              "      <td>93826.63</td>\n",
              "    </tr>\n",
              "    <tr>\n",
              "      <th>4</th>\n",
              "      <td>850</td>\n",
              "      <td>Spain</td>\n",
              "      <td>Female</td>\n",
              "      <td>43</td>\n",
              "      <td>2</td>\n",
              "      <td>125510.82</td>\n",
              "      <td>1</td>\n",
              "      <td>1</td>\n",
              "      <td>1</td>\n",
              "      <td>79084.10</td>\n",
              "    </tr>\n",
              "  </tbody>\n",
              "</table>\n",
              "</div>\n",
              "      <button class=\"colab-df-convert\" onclick=\"convertToInteractive('df-a28ff36b-247b-4774-9e41-33acb3dc5cf2')\"\n",
              "              title=\"Convert this dataframe to an interactive table.\"\n",
              "              style=\"display:none;\">\n",
              "        \n",
              "  <svg xmlns=\"http://www.w3.org/2000/svg\" height=\"24px\"viewBox=\"0 0 24 24\"\n",
              "       width=\"24px\">\n",
              "    <path d=\"M0 0h24v24H0V0z\" fill=\"none\"/>\n",
              "    <path d=\"M18.56 5.44l.94 2.06.94-2.06 2.06-.94-2.06-.94-.94-2.06-.94 2.06-2.06.94zm-11 1L8.5 8.5l.94-2.06 2.06-.94-2.06-.94L8.5 2.5l-.94 2.06-2.06.94zm10 10l.94 2.06.94-2.06 2.06-.94-2.06-.94-.94-2.06-.94 2.06-2.06.94z\"/><path d=\"M17.41 7.96l-1.37-1.37c-.4-.4-.92-.59-1.43-.59-.52 0-1.04.2-1.43.59L10.3 9.45l-7.72 7.72c-.78.78-.78 2.05 0 2.83L4 21.41c.39.39.9.59 1.41.59.51 0 1.02-.2 1.41-.59l7.78-7.78 2.81-2.81c.8-.78.8-2.07 0-2.86zM5.41 20L4 18.59l7.72-7.72 1.47 1.35L5.41 20z\"/>\n",
              "  </svg>\n",
              "      </button>\n",
              "      \n",
              "  <style>\n",
              "    .colab-df-container {\n",
              "      display:flex;\n",
              "      flex-wrap:wrap;\n",
              "      gap: 12px;\n",
              "    }\n",
              "\n",
              "    .colab-df-convert {\n",
              "      background-color: #E8F0FE;\n",
              "      border: none;\n",
              "      border-radius: 50%;\n",
              "      cursor: pointer;\n",
              "      display: none;\n",
              "      fill: #1967D2;\n",
              "      height: 32px;\n",
              "      padding: 0 0 0 0;\n",
              "      width: 32px;\n",
              "    }\n",
              "\n",
              "    .colab-df-convert:hover {\n",
              "      background-color: #E2EBFA;\n",
              "      box-shadow: 0px 1px 2px rgba(60, 64, 67, 0.3), 0px 1px 3px 1px rgba(60, 64, 67, 0.15);\n",
              "      fill: #174EA6;\n",
              "    }\n",
              "\n",
              "    [theme=dark] .colab-df-convert {\n",
              "      background-color: #3B4455;\n",
              "      fill: #D2E3FC;\n",
              "    }\n",
              "\n",
              "    [theme=dark] .colab-df-convert:hover {\n",
              "      background-color: #434B5C;\n",
              "      box-shadow: 0px 1px 3px 1px rgba(0, 0, 0, 0.15);\n",
              "      filter: drop-shadow(0px 1px 2px rgba(0, 0, 0, 0.3));\n",
              "      fill: #FFFFFF;\n",
              "    }\n",
              "  </style>\n",
              "\n",
              "      <script>\n",
              "        const buttonEl =\n",
              "          document.querySelector('#df-a28ff36b-247b-4774-9e41-33acb3dc5cf2 button.colab-df-convert');\n",
              "        buttonEl.style.display =\n",
              "          google.colab.kernel.accessAllowed ? 'block' : 'none';\n",
              "\n",
              "        async function convertToInteractive(key) {\n",
              "          const element = document.querySelector('#df-a28ff36b-247b-4774-9e41-33acb3dc5cf2');\n",
              "          const dataTable =\n",
              "            await google.colab.kernel.invokeFunction('convertToInteractive',\n",
              "                                                     [key], {});\n",
              "          if (!dataTable) return;\n",
              "\n",
              "          const docLinkHtml = 'Like what you see? Visit the ' +\n",
              "            '<a target=\"_blank\" href=https://colab.research.google.com/notebooks/data_table.ipynb>data table notebook</a>'\n",
              "            + ' to learn more about interactive tables.';\n",
              "          element.innerHTML = '';\n",
              "          dataTable['output_type'] = 'display_data';\n",
              "          await google.colab.output.renderOutput(dataTable, element);\n",
              "          const docLink = document.createElement('div');\n",
              "          docLink.innerHTML = docLinkHtml;\n",
              "          element.appendChild(docLink);\n",
              "        }\n",
              "      </script>\n",
              "    </div>\n",
              "  </div>\n",
              "  "
            ]
          },
          "metadata": {},
          "execution_count": 20
        }
      ]
    },
    {
      "cell_type": "code",
      "source": [
        "##Feature Engineering\n",
        "geography=pd.get_dummies(X['Geography'],drop_first=True)\n",
        "gender=pd.get_dummies(X['Gender'],drop_first=True)\n"
      ],
      "metadata": {
        "id": "rM9OhUl9d2b2"
      },
      "execution_count": null,
      "outputs": []
    },
    {
      "cell_type": "code",
      "source": [
        "##Concatenate these variables with dataframe\n",
        "X.drop(['Geography','Gender'],axis=1,inplace=True)"
      ],
      "metadata": {
        "id": "XL-Rr39ggfsV"
      },
      "execution_count": null,
      "outputs": []
    },
    {
      "cell_type": "code",
      "source": [
        "X=pd.concat([X,geography,gender],axis=1)"
      ],
      "metadata": {
        "id": "LovUwmSChB8v"
      },
      "execution_count": null,
      "outputs": []
    },
    {
      "cell_type": "code",
      "source": [
        "##Splitting the dataset into Train test split\n",
        "from sklearn.model_selection import train_test_split\n",
        "X_train,X_test,y_train,y_test=train_test_split(X,y,test_size=0.2,random_state=10)"
      ],
      "metadata": {
        "id": "QsXmwzqYhb2i"
      },
      "execution_count": null,
      "outputs": []
    },
    {
      "cell_type": "code",
      "source": [
        "##Feature scaling \n",
        "from sklearn.preprocessing import StandardScaler\n",
        "sc=StandardScaler()\n",
        "X_train=sc.fit_transform(X_train)\n",
        "X_test=sc.transform(X_test)\n"
      ],
      "metadata": {
        "id": "pky6-maziSg5"
      },
      "execution_count": null,
      "outputs": []
    },
    {
      "cell_type": "code",
      "source": [
        "###Lets Create the ANN\n",
        "from tensorflow.keras.models import Sequential \n",
        "from tensorflow.keras.layers import Dense\n",
        "from tensorflow.keras.layers import LeakyReLU,PReLU,ELU,ReLU\n",
        "from tensorflow.keras.layers import Dropout \n"
      ],
      "metadata": {
        "id": "UPk6ioeOmlKT"
      },
      "execution_count": null,
      "outputs": []
    },
    {
      "cell_type": "code",
      "source": [
        "##Lets initialise the ANN \n",
        "classifier=Sequential()"
      ],
      "metadata": {
        "id": "h31TwQrPzDUp"
      },
      "execution_count": null,
      "outputs": []
    },
    {
      "cell_type": "code",
      "source": [
        "##Adding the input layer\n",
        "classifier.add(Dense(units=11,activation='relu')) #Dense unit =11 because we have 11 inputs"
      ],
      "metadata": {
        "id": "Xil2uNBD0pJ2"
      },
      "execution_count": null,
      "outputs": []
    },
    {
      "cell_type": "code",
      "source": [
        "##Adding the first hidden layer\n",
        "classifier.add(Dense(units=7,activation='relu'))\n",
        "##you want you can add droplayer too as shown below\n",
        "classifier.add(Dropout(0.2))"
      ],
      "metadata": {
        "id": "zsSC0Ft90_As"
      },
      "execution_count": null,
      "outputs": []
    },
    {
      "cell_type": "code",
      "source": [
        "##adding the second Hidden layer\n",
        "classifier.add(Dense(units=6,activation='relu'))"
      ],
      "metadata": {
        "id": "-nLQb8-G1LXb"
      },
      "execution_count": null,
      "outputs": []
    },
    {
      "cell_type": "code",
      "source": [
        "##Output layer \n",
        "classifier.add(Dense(1,activation='sigmoid'))"
      ],
      "metadata": {
        "id": "VG4TTEli1ZNr"
      },
      "execution_count": null,
      "outputs": []
    },
    {
      "cell_type": "code",
      "source": [
        "classifier.compile(optimizer=opt,loss='binary_crossentropy',metrics=['accuracy']) ##by default adam takes learning rate of 0.01\n",
        "\n",
        "##Or if you dont need own learning rate you can define optimizer as adam \n",
        "#classifier.compile(optimizer='adam',loss='binary_crossentropy',metrics=['accuracy'])"
      ],
      "metadata": {
        "id": "Vwotkr4y1mV1"
      },
      "execution_count": null,
      "outputs": []
    },
    {
      "cell_type": "code",
      "source": [
        "##to add our learning rate for adam\n",
        "import tensorflow\n",
        "opt=tensorflow.keras.optimizers.Adam(learning_rate=0.01) ##here you can add your own Learning rate with the optimizer variable which we will use in compile"
      ],
      "metadata": {
        "id": "2MNprlqJ12iY"
      },
      "execution_count": null,
      "outputs": []
    },
    {
      "cell_type": "code",
      "source": [
        "##Train neural network\n",
        "model_history=classifier.fit(X_train,y_train,validation_split=0.33,batch_size=10,epochs=1000)"
      ],
      "metadata": {
        "colab": {
          "base_uri": "https://localhost:8080/",
          "height": 1000
        },
        "id": "LaVyDnhp2Sy2",
        "outputId": "59ab5f2f-b8d3-4da5-85e9-5d5a18c7b7a9"
      },
      "execution_count": null,
      "outputs": [
        {
          "output_type": "stream",
          "name": "stdout",
          "text": [
            "Epoch 1/1000\n",
            "536/536 [==============================] - 3s 4ms/step - loss: 0.4127 - accuracy: 0.8233 - val_loss: 0.3722 - val_accuracy: 0.8448\n",
            "Epoch 2/1000\n",
            "536/536 [==============================] - 2s 3ms/step - loss: 0.3612 - accuracy: 0.8509 - val_loss: 0.3569 - val_accuracy: 0.8512\n",
            "Epoch 3/1000\n",
            "536/536 [==============================] - 2s 3ms/step - loss: 0.3515 - accuracy: 0.8561 - val_loss: 0.3521 - val_accuracy: 0.8546\n",
            "Epoch 4/1000\n",
            "536/536 [==============================] - 2s 4ms/step - loss: 0.3457 - accuracy: 0.8567 - val_loss: 0.3425 - val_accuracy: 0.8557\n",
            "Epoch 5/1000\n",
            "536/536 [==============================] - 2s 4ms/step - loss: 0.3433 - accuracy: 0.8604 - val_loss: 0.3503 - val_accuracy: 0.8538\n",
            "Epoch 6/1000\n",
            "536/536 [==============================] - 2s 3ms/step - loss: 0.3425 - accuracy: 0.8569 - val_loss: 0.3463 - val_accuracy: 0.8629\n",
            "Epoch 7/1000\n",
            "536/536 [==============================] - 2s 4ms/step - loss: 0.3383 - accuracy: 0.8602 - val_loss: 0.3397 - val_accuracy: 0.8595\n",
            "Epoch 8/1000\n",
            "536/536 [==============================] - 2s 3ms/step - loss: 0.3335 - accuracy: 0.8621 - val_loss: 0.3646 - val_accuracy: 0.8535\n",
            "Epoch 9/1000\n",
            "536/536 [==============================] - 2s 3ms/step - loss: 0.3362 - accuracy: 0.8632 - val_loss: 0.3426 - val_accuracy: 0.8580\n",
            "Epoch 10/1000\n",
            "536/536 [==============================] - 2s 4ms/step - loss: 0.3317 - accuracy: 0.8638 - val_loss: 0.3712 - val_accuracy: 0.8501\n",
            "Epoch 11/1000\n",
            "536/536 [==============================] - 2s 4ms/step - loss: 0.3338 - accuracy: 0.8632 - val_loss: 0.3571 - val_accuracy: 0.8569\n",
            "Epoch 12/1000\n",
            "536/536 [==============================] - 2s 4ms/step - loss: 0.3347 - accuracy: 0.8627 - val_loss: 0.3512 - val_accuracy: 0.8538\n",
            "Epoch 13/1000\n",
            "536/536 [==============================] - 2s 4ms/step - loss: 0.3320 - accuracy: 0.8647 - val_loss: 0.3678 - val_accuracy: 0.8535\n",
            "Epoch 14/1000\n",
            "536/536 [==============================] - 2s 3ms/step - loss: 0.3298 - accuracy: 0.8602 - val_loss: 0.3514 - val_accuracy: 0.8607\n",
            "Epoch 15/1000\n",
            "536/536 [==============================] - 2s 4ms/step - loss: 0.3293 - accuracy: 0.8645 - val_loss: 0.3520 - val_accuracy: 0.8595\n",
            "Epoch 16/1000\n",
            "536/536 [==============================] - 2s 4ms/step - loss: 0.3291 - accuracy: 0.8640 - val_loss: 0.3471 - val_accuracy: 0.8573\n",
            "Epoch 17/1000\n",
            "536/536 [==============================] - 2s 4ms/step - loss: 0.3280 - accuracy: 0.8651 - val_loss: 0.3550 - val_accuracy: 0.8561\n",
            "Epoch 18/1000\n",
            "536/536 [==============================] - 2s 3ms/step - loss: 0.3250 - accuracy: 0.8681 - val_loss: 0.3518 - val_accuracy: 0.8538\n",
            "Epoch 19/1000\n",
            "536/536 [==============================] - 2s 3ms/step - loss: 0.3271 - accuracy: 0.8651 - val_loss: 0.3549 - val_accuracy: 0.8527\n",
            "Epoch 20/1000\n",
            "536/536 [==============================] - 2s 4ms/step - loss: 0.3241 - accuracy: 0.8677 - val_loss: 0.3607 - val_accuracy: 0.8557\n",
            "Epoch 21/1000\n",
            "536/536 [==============================] - 2s 4ms/step - loss: 0.3227 - accuracy: 0.8653 - val_loss: 0.3548 - val_accuracy: 0.8584\n",
            "Epoch 22/1000\n",
            "536/536 [==============================] - 2s 3ms/step - loss: 0.3252 - accuracy: 0.8670 - val_loss: 0.3547 - val_accuracy: 0.8580\n",
            "Epoch 23/1000\n",
            "536/536 [==============================] - 2s 3ms/step - loss: 0.3237 - accuracy: 0.8666 - val_loss: 0.3519 - val_accuracy: 0.8603\n",
            "Epoch 24/1000\n",
            "536/536 [==============================] - 2s 4ms/step - loss: 0.3231 - accuracy: 0.8662 - val_loss: 0.3630 - val_accuracy: 0.8603\n",
            "Epoch 25/1000\n",
            "536/536 [==============================] - 2s 3ms/step - loss: 0.3235 - accuracy: 0.8668 - val_loss: 0.3564 - val_accuracy: 0.8618\n",
            "Epoch 26/1000\n",
            "536/536 [==============================] - 2s 3ms/step - loss: 0.3204 - accuracy: 0.8668 - val_loss: 0.3582 - val_accuracy: 0.8622\n",
            "Epoch 27/1000\n",
            "536/536 [==============================] - 2s 4ms/step - loss: 0.3235 - accuracy: 0.8662 - val_loss: 0.3586 - val_accuracy: 0.8610\n",
            "Epoch 28/1000\n",
            "536/536 [==============================] - 2s 3ms/step - loss: 0.3207 - accuracy: 0.8668 - val_loss: 0.3534 - val_accuracy: 0.8565\n",
            "Epoch 29/1000\n",
            "536/536 [==============================] - 2s 4ms/step - loss: 0.3200 - accuracy: 0.8688 - val_loss: 0.3518 - val_accuracy: 0.8550\n",
            "Epoch 30/1000\n",
            "536/536 [==============================] - 2s 3ms/step - loss: 0.3203 - accuracy: 0.8692 - val_loss: 0.3469 - val_accuracy: 0.8607\n",
            "Epoch 31/1000\n",
            "536/536 [==============================] - 2s 4ms/step - loss: 0.3181 - accuracy: 0.8699 - val_loss: 0.3515 - val_accuracy: 0.8595\n",
            "Epoch 32/1000\n",
            "536/536 [==============================] - 2s 3ms/step - loss: 0.3200 - accuracy: 0.8716 - val_loss: 0.3479 - val_accuracy: 0.8588\n",
            "Epoch 33/1000\n",
            "536/536 [==============================] - 5s 9ms/step - loss: 0.3193 - accuracy: 0.8681 - val_loss: 0.3537 - val_accuracy: 0.8576\n",
            "Epoch 34/1000\n",
            "536/536 [==============================] - 3s 5ms/step - loss: 0.3187 - accuracy: 0.8711 - val_loss: 0.3614 - val_accuracy: 0.8610\n",
            "Epoch 35/1000\n",
            "536/536 [==============================] - 2s 4ms/step - loss: 0.3187 - accuracy: 0.8694 - val_loss: 0.3596 - val_accuracy: 0.8618\n",
            "Epoch 36/1000\n",
            "536/536 [==============================] - 2s 3ms/step - loss: 0.3164 - accuracy: 0.8699 - val_loss: 0.3615 - val_accuracy: 0.8591\n",
            "Epoch 37/1000\n",
            "536/536 [==============================] - 2s 3ms/step - loss: 0.3179 - accuracy: 0.8726 - val_loss: 0.3618 - val_accuracy: 0.8610\n",
            "Epoch 38/1000\n",
            "536/536 [==============================] - 2s 3ms/step - loss: 0.3160 - accuracy: 0.8720 - val_loss: 0.3526 - val_accuracy: 0.8641\n",
            "Epoch 39/1000\n",
            "536/536 [==============================] - 2s 4ms/step - loss: 0.3147 - accuracy: 0.8753 - val_loss: 0.3527 - val_accuracy: 0.8554\n",
            "Epoch 40/1000\n",
            "536/536 [==============================] - 2s 4ms/step - loss: 0.3178 - accuracy: 0.8729 - val_loss: 0.3588 - val_accuracy: 0.8588\n",
            "Epoch 41/1000\n",
            "536/536 [==============================] - 2s 4ms/step - loss: 0.3132 - accuracy: 0.8744 - val_loss: 0.3595 - val_accuracy: 0.8614\n",
            "Epoch 42/1000\n",
            "536/536 [==============================] - 2s 4ms/step - loss: 0.3127 - accuracy: 0.8750 - val_loss: 0.3704 - val_accuracy: 0.8648\n",
            "Epoch 43/1000\n",
            "536/536 [==============================] - 3s 5ms/step - loss: 0.3132 - accuracy: 0.8720 - val_loss: 0.3546 - val_accuracy: 0.8622\n",
            "Epoch 44/1000\n",
            "536/536 [==============================] - 2s 4ms/step - loss: 0.3139 - accuracy: 0.8718 - val_loss: 0.3600 - val_accuracy: 0.8652\n",
            "Epoch 45/1000\n",
            "536/536 [==============================] - 3s 5ms/step - loss: 0.3126 - accuracy: 0.8746 - val_loss: 0.3527 - val_accuracy: 0.8648\n",
            "Epoch 46/1000\n",
            "536/536 [==============================] - 3s 6ms/step - loss: 0.3145 - accuracy: 0.8714 - val_loss: 0.3565 - val_accuracy: 0.8648\n",
            "Epoch 47/1000\n",
            "536/536 [==============================] - 2s 4ms/step - loss: 0.3125 - accuracy: 0.8726 - val_loss: 0.3638 - val_accuracy: 0.8622\n",
            "Epoch 48/1000\n",
            "536/536 [==============================] - 2s 5ms/step - loss: 0.3116 - accuracy: 0.8729 - val_loss: 0.3638 - val_accuracy: 0.8637\n",
            "Epoch 49/1000\n",
            "536/536 [==============================] - 2s 5ms/step - loss: 0.3122 - accuracy: 0.8722 - val_loss: 0.3606 - val_accuracy: 0.8618\n",
            "Epoch 50/1000\n",
            "536/536 [==============================] - 3s 5ms/step - loss: 0.3130 - accuracy: 0.8729 - val_loss: 0.3591 - val_accuracy: 0.8637\n",
            "Epoch 51/1000\n",
            "536/536 [==============================] - 3s 5ms/step - loss: 0.3135 - accuracy: 0.8727 - val_loss: 0.3584 - val_accuracy: 0.8641\n",
            "Epoch 52/1000\n",
            "536/536 [==============================] - 2s 4ms/step - loss: 0.3140 - accuracy: 0.8735 - val_loss: 0.3605 - val_accuracy: 0.8569\n",
            "Epoch 53/1000\n",
            "536/536 [==============================] - 2s 5ms/step - loss: 0.3137 - accuracy: 0.8740 - val_loss: 0.3578 - val_accuracy: 0.8618\n",
            "Epoch 54/1000\n",
            "536/536 [==============================] - 3s 6ms/step - loss: 0.3104 - accuracy: 0.8726 - val_loss: 0.3846 - val_accuracy: 0.8580\n",
            "Epoch 55/1000\n",
            "536/536 [==============================] - 3s 6ms/step - loss: 0.3125 - accuracy: 0.8740 - val_loss: 0.3658 - val_accuracy: 0.8557\n",
            "Epoch 56/1000\n",
            "536/536 [==============================] - 2s 3ms/step - loss: 0.3098 - accuracy: 0.8739 - val_loss: 0.3580 - val_accuracy: 0.8641\n",
            "Epoch 57/1000\n",
            "536/536 [==============================] - 2s 4ms/step - loss: 0.3112 - accuracy: 0.8733 - val_loss: 0.3715 - val_accuracy: 0.8603\n",
            "Epoch 58/1000\n",
            "536/536 [==============================] - 2s 4ms/step - loss: 0.3116 - accuracy: 0.8733 - val_loss: 0.3677 - val_accuracy: 0.8637\n",
            "Epoch 59/1000\n",
            "536/536 [==============================] - 2s 4ms/step - loss: 0.3125 - accuracy: 0.8727 - val_loss: 0.3662 - val_accuracy: 0.8535\n",
            "Epoch 60/1000\n",
            "536/536 [==============================] - 2s 3ms/step - loss: 0.3141 - accuracy: 0.8729 - val_loss: 0.3599 - val_accuracy: 0.8565\n",
            "Epoch 61/1000\n",
            "536/536 [==============================] - 2s 4ms/step - loss: 0.3110 - accuracy: 0.8722 - val_loss: 0.3615 - val_accuracy: 0.8584\n",
            "Epoch 62/1000\n",
            "536/536 [==============================] - 2s 4ms/step - loss: 0.3087 - accuracy: 0.8731 - val_loss: 0.3569 - val_accuracy: 0.8614\n",
            "Epoch 63/1000\n",
            "536/536 [==============================] - 2s 4ms/step - loss: 0.3115 - accuracy: 0.8740 - val_loss: 0.3687 - val_accuracy: 0.8554\n",
            "Epoch 64/1000\n",
            "536/536 [==============================] - 2s 4ms/step - loss: 0.3095 - accuracy: 0.8737 - val_loss: 0.3643 - val_accuracy: 0.8648\n",
            "Epoch 65/1000\n",
            "536/536 [==============================] - 2s 3ms/step - loss: 0.3130 - accuracy: 0.8735 - val_loss: 0.3638 - val_accuracy: 0.8614\n",
            "Epoch 66/1000\n",
            "536/536 [==============================] - 2s 4ms/step - loss: 0.3101 - accuracy: 0.8757 - val_loss: 0.3667 - val_accuracy: 0.8603\n",
            "Epoch 67/1000\n",
            "536/536 [==============================] - 2s 4ms/step - loss: 0.3088 - accuracy: 0.8757 - val_loss: 0.3761 - val_accuracy: 0.8644\n",
            "Epoch 68/1000\n",
            "536/536 [==============================] - 2s 4ms/step - loss: 0.3100 - accuracy: 0.8753 - val_loss: 0.3620 - val_accuracy: 0.8591\n",
            "Epoch 69/1000\n",
            "536/536 [==============================] - 2s 3ms/step - loss: 0.3087 - accuracy: 0.8770 - val_loss: 0.3677 - val_accuracy: 0.8641\n",
            "Epoch 70/1000\n",
            "536/536 [==============================] - 2s 3ms/step - loss: 0.3121 - accuracy: 0.8744 - val_loss: 0.3665 - val_accuracy: 0.8622\n",
            "Epoch 71/1000\n",
            "536/536 [==============================] - 2s 4ms/step - loss: 0.3104 - accuracy: 0.8733 - val_loss: 0.3648 - val_accuracy: 0.8516\n",
            "Epoch 72/1000\n",
            "536/536 [==============================] - 2s 3ms/step - loss: 0.3095 - accuracy: 0.8739 - val_loss: 0.3663 - val_accuracy: 0.8599\n",
            "Epoch 73/1000\n",
            "536/536 [==============================] - 2s 3ms/step - loss: 0.3093 - accuracy: 0.8748 - val_loss: 0.3674 - val_accuracy: 0.8622\n",
            "Epoch 74/1000\n",
            "536/536 [==============================] - 2s 4ms/step - loss: 0.3097 - accuracy: 0.8752 - val_loss: 0.3639 - val_accuracy: 0.8622\n",
            "Epoch 75/1000\n",
            "536/536 [==============================] - 2s 4ms/step - loss: 0.3066 - accuracy: 0.8755 - val_loss: 0.3752 - val_accuracy: 0.8610\n",
            "Epoch 76/1000\n",
            "536/536 [==============================] - 2s 4ms/step - loss: 0.3072 - accuracy: 0.8776 - val_loss: 0.3621 - val_accuracy: 0.8629\n",
            "Epoch 77/1000\n",
            "536/536 [==============================] - 2s 3ms/step - loss: 0.3088 - accuracy: 0.8750 - val_loss: 0.3670 - val_accuracy: 0.8580\n",
            "Epoch 78/1000\n",
            "536/536 [==============================] - 2s 4ms/step - loss: 0.3090 - accuracy: 0.8740 - val_loss: 0.3739 - val_accuracy: 0.8675\n",
            "Epoch 79/1000\n",
            "536/536 [==============================] - 2s 4ms/step - loss: 0.3072 - accuracy: 0.8742 - val_loss: 0.3559 - val_accuracy: 0.8614\n",
            "Epoch 80/1000\n",
            "536/536 [==============================] - 2s 4ms/step - loss: 0.3081 - accuracy: 0.8780 - val_loss: 0.3697 - val_accuracy: 0.8599\n",
            "Epoch 81/1000\n",
            "536/536 [==============================] - 2s 4ms/step - loss: 0.3059 - accuracy: 0.8776 - val_loss: 0.3760 - val_accuracy: 0.8626\n",
            "Epoch 82/1000\n",
            "536/536 [==============================] - 2s 4ms/step - loss: 0.3092 - accuracy: 0.8759 - val_loss: 0.3752 - val_accuracy: 0.8626\n",
            "Epoch 83/1000\n",
            "536/536 [==============================] - 2s 4ms/step - loss: 0.3062 - accuracy: 0.8752 - val_loss: 0.3563 - val_accuracy: 0.8607\n",
            "Epoch 84/1000\n",
            "536/536 [==============================] - 2s 4ms/step - loss: 0.3065 - accuracy: 0.8780 - val_loss: 0.4021 - val_accuracy: 0.8637\n",
            "Epoch 85/1000\n",
            "536/536 [==============================] - 2s 4ms/step - loss: 0.3070 - accuracy: 0.8765 - val_loss: 0.3701 - val_accuracy: 0.8595\n",
            "Epoch 86/1000\n",
            "536/536 [==============================] - 2s 3ms/step - loss: 0.3084 - accuracy: 0.8729 - val_loss: 0.3636 - val_accuracy: 0.8610\n",
            "Epoch 87/1000\n",
            "536/536 [==============================] - 2s 3ms/step - loss: 0.3058 - accuracy: 0.8770 - val_loss: 0.3727 - val_accuracy: 0.8629\n",
            "Epoch 88/1000\n",
            "536/536 [==============================] - 2s 4ms/step - loss: 0.3085 - accuracy: 0.8759 - val_loss: 0.3713 - val_accuracy: 0.8618\n",
            "Epoch 89/1000\n",
            "536/536 [==============================] - 2s 4ms/step - loss: 0.3092 - accuracy: 0.8763 - val_loss: 0.3801 - val_accuracy: 0.8595\n",
            "Epoch 90/1000\n",
            "536/536 [==============================] - 2s 4ms/step - loss: 0.3057 - accuracy: 0.8748 - val_loss: 0.3747 - val_accuracy: 0.8565\n",
            "Epoch 91/1000\n",
            "536/536 [==============================] - 2s 3ms/step - loss: 0.3078 - accuracy: 0.8724 - val_loss: 0.3819 - val_accuracy: 0.8599\n",
            "Epoch 92/1000\n",
            "536/536 [==============================] - 2s 4ms/step - loss: 0.3060 - accuracy: 0.8763 - val_loss: 0.3829 - val_accuracy: 0.8573\n",
            "Epoch 93/1000\n",
            "536/536 [==============================] - 2s 4ms/step - loss: 0.3066 - accuracy: 0.8768 - val_loss: 0.3742 - val_accuracy: 0.8633\n",
            "Epoch 94/1000\n",
            "536/536 [==============================] - 2s 4ms/step - loss: 0.3034 - accuracy: 0.8770 - val_loss: 0.3878 - val_accuracy: 0.8656\n",
            "Epoch 95/1000\n",
            "536/536 [==============================] - 2s 4ms/step - loss: 0.3073 - accuracy: 0.8744 - val_loss: 0.3984 - val_accuracy: 0.8610\n",
            "Epoch 96/1000\n",
            "536/536 [==============================] - 2s 4ms/step - loss: 0.3057 - accuracy: 0.8752 - val_loss: 0.3846 - val_accuracy: 0.8614\n",
            "Epoch 97/1000\n",
            "536/536 [==============================] - 2s 4ms/step - loss: 0.3079 - accuracy: 0.8733 - val_loss: 0.3872 - val_accuracy: 0.8599\n",
            "Epoch 98/1000\n",
            "536/536 [==============================] - 2s 4ms/step - loss: 0.3076 - accuracy: 0.8772 - val_loss: 0.3559 - val_accuracy: 0.8656\n",
            "Epoch 99/1000\n",
            "536/536 [==============================] - 4s 8ms/step - loss: 0.3057 - accuracy: 0.8768 - val_loss: 0.3958 - val_accuracy: 0.8584\n",
            "Epoch 100/1000\n",
            "536/536 [==============================] - 5s 9ms/step - loss: 0.3053 - accuracy: 0.8778 - val_loss: 0.3895 - val_accuracy: 0.8599\n",
            "Epoch 101/1000\n",
            "536/536 [==============================] - 3s 5ms/step - loss: 0.3066 - accuracy: 0.8746 - val_loss: 0.3824 - val_accuracy: 0.8588\n",
            "Epoch 102/1000\n",
            "536/536 [==============================] - 2s 4ms/step - loss: 0.3041 - accuracy: 0.8759 - val_loss: 0.4082 - val_accuracy: 0.8622\n",
            "Epoch 103/1000\n",
            "536/536 [==============================] - 2s 4ms/step - loss: 0.3048 - accuracy: 0.8739 - val_loss: 0.3795 - val_accuracy: 0.8629\n",
            "Epoch 104/1000\n",
            "536/536 [==============================] - 2s 4ms/step - loss: 0.3064 - accuracy: 0.8750 - val_loss: 0.3757 - val_accuracy: 0.8595\n",
            "Epoch 105/1000\n",
            "105/536 [====>.........................] - ETA: 1s - loss: 0.2920 - accuracy: 0.8733"
          ]
        },
        {
          "output_type": "error",
          "ename": "KeyboardInterrupt",
          "evalue": "ignored",
          "traceback": [
            "\u001b[0;31m---------------------------------------------------------------------------\u001b[0m",
            "\u001b[0;31mKeyboardInterrupt\u001b[0m                         Traceback (most recent call last)",
            "\u001b[0;32m<ipython-input-44-80d463d300a5>\u001b[0m in \u001b[0;36m<module>\u001b[0;34m\u001b[0m\n\u001b[1;32m      1\u001b[0m \u001b[0;31m##Train neural network\u001b[0m\u001b[0;34m\u001b[0m\u001b[0;34m\u001b[0m\u001b[0;34m\u001b[0m\u001b[0m\n\u001b[0;32m----> 2\u001b[0;31m \u001b[0mmodel_history\u001b[0m\u001b[0;34m=\u001b[0m\u001b[0mclassifier\u001b[0m\u001b[0;34m.\u001b[0m\u001b[0mfit\u001b[0m\u001b[0;34m(\u001b[0m\u001b[0mX_train\u001b[0m\u001b[0;34m,\u001b[0m\u001b[0my_train\u001b[0m\u001b[0;34m,\u001b[0m\u001b[0mvalidation_split\u001b[0m\u001b[0;34m=\u001b[0m\u001b[0;36m0.33\u001b[0m\u001b[0;34m,\u001b[0m\u001b[0mbatch_size\u001b[0m\u001b[0;34m=\u001b[0m\u001b[0;36m10\u001b[0m\u001b[0;34m,\u001b[0m\u001b[0mepochs\u001b[0m\u001b[0;34m=\u001b[0m\u001b[0;36m1000\u001b[0m\u001b[0;34m)\u001b[0m\u001b[0;34m\u001b[0m\u001b[0;34m\u001b[0m\u001b[0m\n\u001b[0m",
            "\u001b[0;32m/usr/local/lib/python3.7/dist-packages/keras/utils/traceback_utils.py\u001b[0m in \u001b[0;36merror_handler\u001b[0;34m(*args, **kwargs)\u001b[0m\n\u001b[1;32m     63\u001b[0m         \u001b[0mfiltered_tb\u001b[0m \u001b[0;34m=\u001b[0m \u001b[0;32mNone\u001b[0m\u001b[0;34m\u001b[0m\u001b[0;34m\u001b[0m\u001b[0m\n\u001b[1;32m     64\u001b[0m         \u001b[0;32mtry\u001b[0m\u001b[0;34m:\u001b[0m\u001b[0;34m\u001b[0m\u001b[0;34m\u001b[0m\u001b[0m\n\u001b[0;32m---> 65\u001b[0;31m             \u001b[0;32mreturn\u001b[0m \u001b[0mfn\u001b[0m\u001b[0;34m(\u001b[0m\u001b[0;34m*\u001b[0m\u001b[0margs\u001b[0m\u001b[0;34m,\u001b[0m \u001b[0;34m**\u001b[0m\u001b[0mkwargs\u001b[0m\u001b[0;34m)\u001b[0m\u001b[0;34m\u001b[0m\u001b[0;34m\u001b[0m\u001b[0m\n\u001b[0m\u001b[1;32m     66\u001b[0m         \u001b[0;32mexcept\u001b[0m \u001b[0mException\u001b[0m \u001b[0;32mas\u001b[0m \u001b[0me\u001b[0m\u001b[0;34m:\u001b[0m\u001b[0;34m\u001b[0m\u001b[0;34m\u001b[0m\u001b[0m\n\u001b[1;32m     67\u001b[0m             \u001b[0mfiltered_tb\u001b[0m \u001b[0;34m=\u001b[0m \u001b[0m_process_traceback_frames\u001b[0m\u001b[0;34m(\u001b[0m\u001b[0me\u001b[0m\u001b[0;34m.\u001b[0m\u001b[0m__traceback__\u001b[0m\u001b[0;34m)\u001b[0m\u001b[0;34m\u001b[0m\u001b[0;34m\u001b[0m\u001b[0m\n",
            "\u001b[0;32m/usr/local/lib/python3.7/dist-packages/keras/engine/training.py\u001b[0m in \u001b[0;36mfit\u001b[0;34m(self, x, y, batch_size, epochs, verbose, callbacks, validation_split, validation_data, shuffle, class_weight, sample_weight, initial_epoch, steps_per_epoch, validation_steps, validation_batch_size, validation_freq, max_queue_size, workers, use_multiprocessing)\u001b[0m\n\u001b[1;32m   1562\u001b[0m                         ):\n\u001b[1;32m   1563\u001b[0m                             \u001b[0mcallbacks\u001b[0m\u001b[0;34m.\u001b[0m\u001b[0mon_train_batch_begin\u001b[0m\u001b[0;34m(\u001b[0m\u001b[0mstep\u001b[0m\u001b[0;34m)\u001b[0m\u001b[0;34m\u001b[0m\u001b[0;34m\u001b[0m\u001b[0m\n\u001b[0;32m-> 1564\u001b[0;31m                             \u001b[0mtmp_logs\u001b[0m \u001b[0;34m=\u001b[0m \u001b[0mself\u001b[0m\u001b[0;34m.\u001b[0m\u001b[0mtrain_function\u001b[0m\u001b[0;34m(\u001b[0m\u001b[0miterator\u001b[0m\u001b[0;34m)\u001b[0m\u001b[0;34m\u001b[0m\u001b[0;34m\u001b[0m\u001b[0m\n\u001b[0m\u001b[1;32m   1565\u001b[0m                             \u001b[0;32mif\u001b[0m \u001b[0mdata_handler\u001b[0m\u001b[0;34m.\u001b[0m\u001b[0mshould_sync\u001b[0m\u001b[0;34m:\u001b[0m\u001b[0;34m\u001b[0m\u001b[0;34m\u001b[0m\u001b[0m\n\u001b[1;32m   1566\u001b[0m                                 \u001b[0mcontext\u001b[0m\u001b[0;34m.\u001b[0m\u001b[0masync_wait\u001b[0m\u001b[0;34m(\u001b[0m\u001b[0;34m)\u001b[0m\u001b[0;34m\u001b[0m\u001b[0;34m\u001b[0m\u001b[0m\n",
            "\u001b[0;32m/usr/local/lib/python3.7/dist-packages/tensorflow/python/util/traceback_utils.py\u001b[0m in \u001b[0;36merror_handler\u001b[0;34m(*args, **kwargs)\u001b[0m\n\u001b[1;32m    148\u001b[0m     \u001b[0mfiltered_tb\u001b[0m \u001b[0;34m=\u001b[0m \u001b[0;32mNone\u001b[0m\u001b[0;34m\u001b[0m\u001b[0;34m\u001b[0m\u001b[0m\n\u001b[1;32m    149\u001b[0m     \u001b[0;32mtry\u001b[0m\u001b[0;34m:\u001b[0m\u001b[0;34m\u001b[0m\u001b[0;34m\u001b[0m\u001b[0m\n\u001b[0;32m--> 150\u001b[0;31m       \u001b[0;32mreturn\u001b[0m \u001b[0mfn\u001b[0m\u001b[0;34m(\u001b[0m\u001b[0;34m*\u001b[0m\u001b[0margs\u001b[0m\u001b[0;34m,\u001b[0m \u001b[0;34m**\u001b[0m\u001b[0mkwargs\u001b[0m\u001b[0;34m)\u001b[0m\u001b[0;34m\u001b[0m\u001b[0;34m\u001b[0m\u001b[0m\n\u001b[0m\u001b[1;32m    151\u001b[0m     \u001b[0;32mexcept\u001b[0m \u001b[0mException\u001b[0m \u001b[0;32mas\u001b[0m \u001b[0me\u001b[0m\u001b[0;34m:\u001b[0m\u001b[0;34m\u001b[0m\u001b[0;34m\u001b[0m\u001b[0m\n\u001b[1;32m    152\u001b[0m       \u001b[0mfiltered_tb\u001b[0m \u001b[0;34m=\u001b[0m \u001b[0m_process_traceback_frames\u001b[0m\u001b[0;34m(\u001b[0m\u001b[0me\u001b[0m\u001b[0;34m.\u001b[0m\u001b[0m__traceback__\u001b[0m\u001b[0;34m)\u001b[0m\u001b[0;34m\u001b[0m\u001b[0;34m\u001b[0m\u001b[0m\n",
            "\u001b[0;32m/usr/local/lib/python3.7/dist-packages/tensorflow/python/eager/def_function.py\u001b[0m in \u001b[0;36m__call__\u001b[0;34m(self, *args, **kwds)\u001b[0m\n\u001b[1;32m    913\u001b[0m \u001b[0;34m\u001b[0m\u001b[0m\n\u001b[1;32m    914\u001b[0m       \u001b[0;32mwith\u001b[0m \u001b[0mOptionalXlaContext\u001b[0m\u001b[0;34m(\u001b[0m\u001b[0mself\u001b[0m\u001b[0;34m.\u001b[0m\u001b[0m_jit_compile\u001b[0m\u001b[0;34m)\u001b[0m\u001b[0;34m:\u001b[0m\u001b[0;34m\u001b[0m\u001b[0;34m\u001b[0m\u001b[0m\n\u001b[0;32m--> 915\u001b[0;31m         \u001b[0mresult\u001b[0m \u001b[0;34m=\u001b[0m \u001b[0mself\u001b[0m\u001b[0;34m.\u001b[0m\u001b[0m_call\u001b[0m\u001b[0;34m(\u001b[0m\u001b[0;34m*\u001b[0m\u001b[0margs\u001b[0m\u001b[0;34m,\u001b[0m \u001b[0;34m**\u001b[0m\u001b[0mkwds\u001b[0m\u001b[0;34m)\u001b[0m\u001b[0;34m\u001b[0m\u001b[0;34m\u001b[0m\u001b[0m\n\u001b[0m\u001b[1;32m    916\u001b[0m \u001b[0;34m\u001b[0m\u001b[0m\n\u001b[1;32m    917\u001b[0m       \u001b[0mnew_tracing_count\u001b[0m \u001b[0;34m=\u001b[0m \u001b[0mself\u001b[0m\u001b[0;34m.\u001b[0m\u001b[0mexperimental_get_tracing_count\u001b[0m\u001b[0;34m(\u001b[0m\u001b[0;34m)\u001b[0m\u001b[0;34m\u001b[0m\u001b[0;34m\u001b[0m\u001b[0m\n",
            "\u001b[0;32m/usr/local/lib/python3.7/dist-packages/tensorflow/python/eager/def_function.py\u001b[0m in \u001b[0;36m_call\u001b[0;34m(self, *args, **kwds)\u001b[0m\n\u001b[1;32m    945\u001b[0m       \u001b[0;31m# In this case we have created variables on the first call, so we run the\u001b[0m\u001b[0;34m\u001b[0m\u001b[0;34m\u001b[0m\u001b[0;34m\u001b[0m\u001b[0m\n\u001b[1;32m    946\u001b[0m       \u001b[0;31m# defunned version which is guaranteed to never create variables.\u001b[0m\u001b[0;34m\u001b[0m\u001b[0;34m\u001b[0m\u001b[0;34m\u001b[0m\u001b[0m\n\u001b[0;32m--> 947\u001b[0;31m       \u001b[0;32mreturn\u001b[0m \u001b[0mself\u001b[0m\u001b[0;34m.\u001b[0m\u001b[0m_stateless_fn\u001b[0m\u001b[0;34m(\u001b[0m\u001b[0;34m*\u001b[0m\u001b[0margs\u001b[0m\u001b[0;34m,\u001b[0m \u001b[0;34m**\u001b[0m\u001b[0mkwds\u001b[0m\u001b[0;34m)\u001b[0m  \u001b[0;31m# pylint: disable=not-callable\u001b[0m\u001b[0;34m\u001b[0m\u001b[0;34m\u001b[0m\u001b[0m\n\u001b[0m\u001b[1;32m    948\u001b[0m     \u001b[0;32melif\u001b[0m \u001b[0mself\u001b[0m\u001b[0;34m.\u001b[0m\u001b[0m_stateful_fn\u001b[0m \u001b[0;32mis\u001b[0m \u001b[0;32mnot\u001b[0m \u001b[0;32mNone\u001b[0m\u001b[0;34m:\u001b[0m\u001b[0;34m\u001b[0m\u001b[0;34m\u001b[0m\u001b[0m\n\u001b[1;32m    949\u001b[0m       \u001b[0;31m# Release the lock early so that multiple threads can perform the call\u001b[0m\u001b[0;34m\u001b[0m\u001b[0;34m\u001b[0m\u001b[0;34m\u001b[0m\u001b[0m\n",
            "\u001b[0;32m/usr/local/lib/python3.7/dist-packages/tensorflow/python/eager/function.py\u001b[0m in \u001b[0;36m__call__\u001b[0;34m(self, *args, **kwargs)\u001b[0m\n\u001b[1;32m   2495\u001b[0m        filtered_flat_args) = self._maybe_define_function(args, kwargs)\n\u001b[1;32m   2496\u001b[0m     return graph_function._call_flat(\n\u001b[0;32m-> 2497\u001b[0;31m         filtered_flat_args, captured_inputs=graph_function.captured_inputs)  # pylint: disable=protected-access\n\u001b[0m\u001b[1;32m   2498\u001b[0m \u001b[0;34m\u001b[0m\u001b[0m\n\u001b[1;32m   2499\u001b[0m   \u001b[0;34m@\u001b[0m\u001b[0mproperty\u001b[0m\u001b[0;34m\u001b[0m\u001b[0;34m\u001b[0m\u001b[0m\n",
            "\u001b[0;32m/usr/local/lib/python3.7/dist-packages/tensorflow/python/eager/function.py\u001b[0m in \u001b[0;36m_call_flat\u001b[0;34m(self, args, captured_inputs, cancellation_manager)\u001b[0m\n\u001b[1;32m   1861\u001b[0m       \u001b[0;31m# No tape is watching; skip to running the function.\u001b[0m\u001b[0;34m\u001b[0m\u001b[0;34m\u001b[0m\u001b[0;34m\u001b[0m\u001b[0m\n\u001b[1;32m   1862\u001b[0m       return self._build_call_outputs(self._inference_function.call(\n\u001b[0;32m-> 1863\u001b[0;31m           ctx, args, cancellation_manager=cancellation_manager))\n\u001b[0m\u001b[1;32m   1864\u001b[0m     forward_backward = self._select_forward_and_backward_functions(\n\u001b[1;32m   1865\u001b[0m         \u001b[0margs\u001b[0m\u001b[0;34m,\u001b[0m\u001b[0;34m\u001b[0m\u001b[0;34m\u001b[0m\u001b[0m\n",
            "\u001b[0;32m/usr/local/lib/python3.7/dist-packages/tensorflow/python/eager/function.py\u001b[0m in \u001b[0;36mcall\u001b[0;34m(self, ctx, args, cancellation_manager)\u001b[0m\n\u001b[1;32m    502\u001b[0m               \u001b[0minputs\u001b[0m\u001b[0;34m=\u001b[0m\u001b[0margs\u001b[0m\u001b[0;34m,\u001b[0m\u001b[0;34m\u001b[0m\u001b[0;34m\u001b[0m\u001b[0m\n\u001b[1;32m    503\u001b[0m               \u001b[0mattrs\u001b[0m\u001b[0;34m=\u001b[0m\u001b[0mattrs\u001b[0m\u001b[0;34m,\u001b[0m\u001b[0;34m\u001b[0m\u001b[0;34m\u001b[0m\u001b[0m\n\u001b[0;32m--> 504\u001b[0;31m               ctx=ctx)\n\u001b[0m\u001b[1;32m    505\u001b[0m         \u001b[0;32melse\u001b[0m\u001b[0;34m:\u001b[0m\u001b[0;34m\u001b[0m\u001b[0;34m\u001b[0m\u001b[0m\n\u001b[1;32m    506\u001b[0m           outputs = execute.execute_with_cancellation(\n",
            "\u001b[0;32m/usr/local/lib/python3.7/dist-packages/tensorflow/python/eager/execute.py\u001b[0m in \u001b[0;36mquick_execute\u001b[0;34m(op_name, num_outputs, inputs, attrs, ctx, name)\u001b[0m\n\u001b[1;32m     53\u001b[0m     \u001b[0mctx\u001b[0m\u001b[0;34m.\u001b[0m\u001b[0mensure_initialized\u001b[0m\u001b[0;34m(\u001b[0m\u001b[0;34m)\u001b[0m\u001b[0;34m\u001b[0m\u001b[0;34m\u001b[0m\u001b[0m\n\u001b[1;32m     54\u001b[0m     tensors = pywrap_tfe.TFE_Py_Execute(ctx._handle, device_name, op_name,\n\u001b[0;32m---> 55\u001b[0;31m                                         inputs, attrs, num_outputs)\n\u001b[0m\u001b[1;32m     56\u001b[0m   \u001b[0;32mexcept\u001b[0m \u001b[0mcore\u001b[0m\u001b[0;34m.\u001b[0m\u001b[0m_NotOkStatusException\u001b[0m \u001b[0;32mas\u001b[0m \u001b[0me\u001b[0m\u001b[0;34m:\u001b[0m\u001b[0;34m\u001b[0m\u001b[0;34m\u001b[0m\u001b[0m\n\u001b[1;32m     57\u001b[0m     \u001b[0;32mif\u001b[0m \u001b[0mname\u001b[0m \u001b[0;32mis\u001b[0m \u001b[0;32mnot\u001b[0m \u001b[0;32mNone\u001b[0m\u001b[0;34m:\u001b[0m\u001b[0;34m\u001b[0m\u001b[0;34m\u001b[0m\u001b[0m\n",
            "\u001b[0;31mKeyboardInterrupt\u001b[0m: "
          ]
        }
      ]
    },
    {
      "cell_type": "markdown",
      "source": [
        "We will do early stopping when accuracy is almost same , then we can stop after certain point of epochs"
      ],
      "metadata": {
        "id": "BuQgjnSl3V73"
      }
    },
    {
      "cell_type": "code",
      "source": [
        "##Early stopping #when accuracy is not incrasing we will do early stopping automatically \n",
        "import tensorflow as tf\n",
        "early_stopping=tf.keras.callbacks.EarlyStopping(\n",
        "    monitor=\"val_loss\",\n",
        "    min_delta=0.0001,\n",
        "    patience=20,\n",
        "    verbose=1,\n",
        "    mode=\"auto\",\n",
        "    baseline=None,\n",
        "    restore_best_weights=False,\n",
        ")"
      ],
      "metadata": {
        "id": "gwy4UFOA3AYR"
      },
      "execution_count": null,
      "outputs": []
    },
    {
      "cell_type": "code",
      "source": [
        "model_history=classifier.fit(X_train,y_train,validation_split=0.33,batch_size=10,epochs=1000,callbacks=early_stopping)"
      ],
      "metadata": {
        "colab": {
          "base_uri": "https://localhost:8080/"
        },
        "id": "jQPcMXwD4flK",
        "outputId": "7be9f0c2-9afb-4fe3-fe57-08b5959b3ecf"
      },
      "execution_count": null,
      "outputs": [
        {
          "output_type": "stream",
          "name": "stdout",
          "text": [
            "Epoch 1/1000\n",
            "536/536 [==============================] - 2s 4ms/step - loss: 0.3034 - accuracy: 0.8753 - val_loss: 0.3882 - val_accuracy: 0.8595\n",
            "Epoch 2/1000\n",
            "536/536 [==============================] - 2s 4ms/step - loss: 0.3071 - accuracy: 0.8740 - val_loss: 0.3774 - val_accuracy: 0.8603\n",
            "Epoch 3/1000\n",
            "536/536 [==============================] - 2s 4ms/step - loss: 0.3040 - accuracy: 0.8752 - val_loss: 0.4046 - val_accuracy: 0.8637\n",
            "Epoch 4/1000\n",
            "536/536 [==============================] - 2s 4ms/step - loss: 0.3049 - accuracy: 0.8763 - val_loss: 0.3966 - val_accuracy: 0.8573\n",
            "Epoch 5/1000\n",
            "536/536 [==============================] - 2s 4ms/step - loss: 0.3044 - accuracy: 0.8778 - val_loss: 0.3976 - val_accuracy: 0.8546\n",
            "Epoch 6/1000\n",
            "536/536 [==============================] - 2s 4ms/step - loss: 0.3024 - accuracy: 0.8744 - val_loss: 0.3879 - val_accuracy: 0.8576\n",
            "Epoch 7/1000\n",
            "536/536 [==============================] - 2s 4ms/step - loss: 0.3050 - accuracy: 0.8774 - val_loss: 0.3864 - val_accuracy: 0.8561\n",
            "Epoch 8/1000\n",
            "536/536 [==============================] - 2s 4ms/step - loss: 0.3062 - accuracy: 0.8737 - val_loss: 0.3750 - val_accuracy: 0.8580\n",
            "Epoch 9/1000\n",
            "536/536 [==============================] - 2s 4ms/step - loss: 0.3029 - accuracy: 0.8757 - val_loss: 0.3853 - val_accuracy: 0.8610\n",
            "Epoch 10/1000\n",
            "536/536 [==============================] - 2s 4ms/step - loss: 0.3045 - accuracy: 0.8748 - val_loss: 0.4083 - val_accuracy: 0.8561\n",
            "Epoch 11/1000\n",
            "536/536 [==============================] - 2s 4ms/step - loss: 0.3050 - accuracy: 0.8752 - val_loss: 0.3759 - val_accuracy: 0.8626\n",
            "Epoch 12/1000\n",
            "536/536 [==============================] - 2s 4ms/step - loss: 0.3041 - accuracy: 0.8729 - val_loss: 0.3897 - val_accuracy: 0.8603\n",
            "Epoch 13/1000\n",
            "536/536 [==============================] - 2s 4ms/step - loss: 0.3036 - accuracy: 0.8759 - val_loss: 0.3970 - val_accuracy: 0.8569\n",
            "Epoch 14/1000\n",
            "536/536 [==============================] - 2s 4ms/step - loss: 0.3020 - accuracy: 0.8772 - val_loss: 0.3898 - val_accuracy: 0.8607\n",
            "Epoch 15/1000\n",
            "536/536 [==============================] - 2s 4ms/step - loss: 0.3079 - accuracy: 0.8753 - val_loss: 0.4015 - val_accuracy: 0.8580\n",
            "Epoch 16/1000\n",
            "536/536 [==============================] - 2s 4ms/step - loss: 0.3041 - accuracy: 0.8767 - val_loss: 0.3819 - val_accuracy: 0.8576\n",
            "Epoch 17/1000\n",
            "536/536 [==============================] - 2s 4ms/step - loss: 0.3043 - accuracy: 0.8755 - val_loss: 0.3745 - val_accuracy: 0.8584\n",
            "Epoch 18/1000\n",
            "536/536 [==============================] - 2s 4ms/step - loss: 0.3018 - accuracy: 0.8774 - val_loss: 0.3865 - val_accuracy: 0.8588\n",
            "Epoch 19/1000\n",
            "536/536 [==============================] - 2s 4ms/step - loss: 0.3042 - accuracy: 0.8761 - val_loss: 0.3873 - val_accuracy: 0.8614\n",
            "Epoch 20/1000\n",
            "536/536 [==============================] - 2s 4ms/step - loss: 0.3031 - accuracy: 0.8770 - val_loss: 0.3998 - val_accuracy: 0.8599\n",
            "Epoch 21/1000\n",
            "536/536 [==============================] - 2s 4ms/step - loss: 0.3068 - accuracy: 0.8772 - val_loss: 0.3898 - val_accuracy: 0.8607\n",
            "Epoch 22/1000\n",
            "536/536 [==============================] - 2s 4ms/step - loss: 0.3023 - accuracy: 0.8752 - val_loss: 0.4028 - val_accuracy: 0.8599\n",
            "Epoch 23/1000\n",
            "536/536 [==============================] - 2s 4ms/step - loss: 0.3021 - accuracy: 0.8763 - val_loss: 0.3962 - val_accuracy: 0.8576\n",
            "Epoch 24/1000\n",
            "536/536 [==============================] - 2s 4ms/step - loss: 0.3047 - accuracy: 0.8776 - val_loss: 0.3929 - val_accuracy: 0.8554\n",
            "Epoch 25/1000\n",
            "536/536 [==============================] - 2s 4ms/step - loss: 0.3043 - accuracy: 0.8761 - val_loss: 0.3796 - val_accuracy: 0.8603\n",
            "Epoch 26/1000\n",
            "536/536 [==============================] - 2s 4ms/step - loss: 0.3070 - accuracy: 0.8770 - val_loss: 0.3866 - val_accuracy: 0.8595\n",
            "Epoch 27/1000\n",
            "536/536 [==============================] - 2s 4ms/step - loss: 0.3026 - accuracy: 0.8763 - val_loss: 0.3950 - val_accuracy: 0.8565\n",
            "Epoch 28/1000\n",
            "536/536 [==============================] - 2s 4ms/step - loss: 0.3025 - accuracy: 0.8783 - val_loss: 0.3790 - val_accuracy: 0.8603\n",
            "Epoch 29/1000\n",
            "536/536 [==============================] - 2s 4ms/step - loss: 0.3004 - accuracy: 0.8776 - val_loss: 0.3938 - val_accuracy: 0.8618\n",
            "Epoch 30/1000\n",
            "536/536 [==============================] - 4s 8ms/step - loss: 0.3065 - accuracy: 0.8742 - val_loss: 0.3749 - val_accuracy: 0.8588\n",
            "Epoch 31/1000\n",
            "536/536 [==============================] - 3s 6ms/step - loss: 0.3042 - accuracy: 0.8759 - val_loss: 0.4081 - val_accuracy: 0.8591\n",
            "Epoch 32/1000\n",
            "536/536 [==============================] - 2s 4ms/step - loss: 0.3031 - accuracy: 0.8787 - val_loss: 0.3815 - val_accuracy: 0.8569\n",
            "Epoch 33/1000\n",
            "536/536 [==============================] - 2s 4ms/step - loss: 0.3025 - accuracy: 0.8780 - val_loss: 0.4150 - val_accuracy: 0.8561\n",
            "Epoch 34/1000\n",
            "536/536 [==============================] - 2s 4ms/step - loss: 0.3003 - accuracy: 0.8796 - val_loss: 0.4387 - val_accuracy: 0.8561\n",
            "Epoch 35/1000\n",
            "536/536 [==============================] - 2s 4ms/step - loss: 0.3047 - accuracy: 0.8767 - val_loss: 0.4754 - val_accuracy: 0.8519\n",
            "Epoch 36/1000\n",
            "536/536 [==============================] - 2s 4ms/step - loss: 0.3050 - accuracy: 0.8776 - val_loss: 0.4109 - val_accuracy: 0.8588\n",
            "Epoch 37/1000\n",
            "536/536 [==============================] - 2s 4ms/step - loss: 0.3004 - accuracy: 0.8785 - val_loss: 0.4358 - val_accuracy: 0.8576\n",
            "Epoch 37: early stopping\n"
          ]
        }
      ]
    },
    {
      "cell_type": "code",
      "source": [
        "model_history.history.keys()"
      ],
      "metadata": {
        "colab": {
          "base_uri": "https://localhost:8080/"
        },
        "id": "piafFzK05bKw",
        "outputId": "43dfa2c2-a55e-4896-f4f2-0dbf1c208077"
      },
      "execution_count": null,
      "outputs": [
        {
          "output_type": "execute_result",
          "data": {
            "text/plain": [
              "dict_keys(['loss', 'accuracy', 'val_loss', 'val_accuracy'])"
            ]
          },
          "metadata": {},
          "execution_count": 47
        }
      ]
    },
    {
      "cell_type": "code",
      "source": [
        "##SUmmarize history for accuracy \n",
        "plt.plot(model_history.history['accuracy'])\n",
        "plt.plot(model_history.history['val_accuracy'])\n",
        "plt.title('model accuracy')\n",
        "plt.ylabel('accuracy')\n",
        "plt.xlabel('epoch')\n",
        "plt.legend(['train','test'],loc='upper left')\n",
        "plt.show()"
      ],
      "metadata": {
        "colab": {
          "base_uri": "https://localhost:8080/",
          "height": 295
        },
        "id": "4DHEIRQt5iXu",
        "outputId": "295f3a74-2fab-4c08-f3fa-74dc0ea5b6b3"
      },
      "execution_count": null,
      "outputs": [
        {
          "output_type": "display_data",
          "data": {
            "text/plain": [
              "<Figure size 432x288 with 1 Axes>"
            ],
            "image/png": "[encoded data removed]"
          },
          "metadata": {
            "needs_background": "light"
          }
        }
      ]
    },
    {
      "cell_type": "code",
      "source": [
        "##Summarize history for loss \n",
        "plt.plot(model_history.history['loss'])\n",
        "plt.plot(model_history.history['val_loss'])\n",
        "plt.title('model loss')\n",
        "plt.ylabel('loss')\n",
        "plt.xlabel('epoch')\n",
        "plt.show()"
      ],
      "metadata": {
        "colab": {
          "base_uri": "https://localhost:8080/",
          "height": 295
        },
        "id": "Cz0XpdFe7fdw",
        "outputId": "0aa5278a-da8d-46a0-ea52-d2ecea87ced3"
      },
      "execution_count": null,
      "outputs": [
        {
          "output_type": "display_data",
          "data": {
            "text/plain": [
              "<Figure size 432x288 with 1 Axes>"
            ],
            "image/png": "[encoded data removed]"
          },
          "metadata": {
            "needs_background": "light"
          }
        }
      ]
    },
    {
      "cell_type": "code",
      "source": [
        "##Part 3 - Making the prediction and evaluatting the model\n",
        "\n",
        "##Prediction the test set results\n",
        "y_pred=classifier.predict(X_test)\n",
        "y_pred=(y_pred>=0.5)"
      ],
      "metadata": {
        "colab": {
          "base_uri": "https://localhost:8080/"
        },
        "id": "lG8uSNB-6AUb",
        "outputId": "9860e4fc-b7b5-46fd-ce2c-6e81ef03b9ce"
      },
      "execution_count": null,
      "outputs": [
        {
          "output_type": "stream",
          "name": "stdout",
          "text": [
            "63/63 [==============================] - 0s 3ms/step\n"
          ]
        }
      ]
    },
    {
      "cell_type": "code",
      "source": [
        "##make the confusion matrix\n",
        "from sklearn.metrics import confusion_matrix\n",
        "cm=confusion_matrix(y_test,y_pred)\n",
        "cm"
      ],
      "metadata": {
        "colab": {
          "base_uri": "https://localhost:8080/"
        },
        "id": "DEghNhlN6nJu",
        "outputId": "68a9b9e0-afbc-42fd-d594-3fdb1bd27651"
      },
      "execution_count": null,
      "outputs": [
        {
          "output_type": "execute_result",
          "data": {
            "text/plain": [
              "array([[1510,   68],\n",
              "       [ 249,  173]])"
            ]
          },
          "metadata": {},
          "execution_count": 51
        }
      ]
    },
    {
      "cell_type": "code",
      "source": [
        "##calculate the accuracy score\n",
        "from sklearn.metrics import accuracy_score\n",
        "score=accuracy_score(y_pred,y_test)\n",
        "score"
      ],
      "metadata": {
        "colab": {
          "base_uri": "https://localhost:8080/"
        },
        "id": "zsGDww6E6zWy",
        "outputId": "03a20e57-7184-461a-ace6-e481bfa1ede2"
      },
      "execution_count": null,
      "outputs": [
        {
          "output_type": "execute_result",
          "data": {
            "text/plain": [
              "0.8415"
            ]
          },
          "metadata": {},
          "execution_count": 53
        }
      ]
    },
    {
      "cell_type": "code",
      "source": [
        "##To get the weights or view the weights\n",
        "classifier.get_weights()"
      ],
      "metadata": {
        "colab": {
          "base_uri": "https://localhost:8080/"
        },
        "id": "0HhhK95-6_t1",
        "outputId": "c72a2e2a-b467-488c-acf7-affbfeb43765"
      },
      "execution_count": null,
      "outputs": [
        {
          "output_type": "execute_result",
          "data": {
            "text/plain": [
              "[array([[ 0.1445631 , -0.4040028 ,  1.2694197 ,  0.3059273 ,  0.46065465,\n",
              "         -0.44429305,  1.3062589 , -0.16450505,  0.9652514 ,  5.1013308 ,\n",
              "          1.6942081 ],\n",
              "        [ 4.9320607 ,  1.8834292 ,  0.7013435 ,  3.7708495 , -0.9585299 ,\n",
              "         -7.965273  , -2.0974734 ,  0.3719384 ,  2.1541169 , -3.610264  ,\n",
              "         -2.8180418 ],\n",
              "        [ 0.02039265, -0.24562067, -0.40918455, -0.19010158,  0.2774791 ,\n",
              "          0.91458565,  2.3792727 ,  0.38368607,  1.3166698 , -2.0823612 ,\n",
              "         -3.2133126 ],\n",
              "        [ 1.1954187 , -6.9141955 , -2.493947  , -0.69781554, -0.37064183,\n",
              "         -1.8057576 , -3.4321916 , -5.3626456 , -0.01804001,  0.90653193,\n",
              "         -5.2794847 ],\n",
              "        [-1.8559455 , -3.7934806 ,  0.3984745 , -0.9327582 ,  5.8867755 ,\n",
              "          1.928019  ,  0.71900666, -6.1988535 ,  4.0461254 ,  1.5915425 ,\n",
              "          0.808552  ],\n",
              "        [ 0.3316837 ,  0.37242994, -2.29953   , -0.01892312, -0.35758492,\n",
              "         -2.1628668 ,  1.6264902 ,  0.2330937 , -0.5051336 ,  1.2872488 ,\n",
              "          1.4029495 ],\n",
              "        [-0.17622228,  0.02446985, -4.6519976 ,  4.09317   ,  0.84965116,\n",
              "         -1.7708075 ,  2.2839384 , -0.7575427 , -0.9191391 , -0.60637605,\n",
              "          3.6583052 ],\n",
              "        [-0.721357  , -0.26361543, -0.33678788, -0.8771957 , -0.49191925,\n",
              "         -0.73987263, -2.2598374 , -0.6512444 ,  0.04052535,  0.8819363 ,\n",
              "          1.0299255 ],\n",
              "        [-0.32687268, -0.21551257,  2.4123123 ,  1.8479031 , -0.9422722 ,\n",
              "          0.20543276, -3.2304027 ,  3.1464667 , -0.89642227,  0.9033296 ,\n",
              "          2.4975705 ],\n",
              "        [-1.1564811 , -0.12883987,  1.2102939 , -0.14469273,  0.08845315,\n",
              "         -1.1552994 , -0.11677368,  0.5803847 ,  1.3440856 ,  0.09511392,\n",
              "          1.321297  ],\n",
              "        [ 0.41412744, -0.0618123 ,  2.5441265 ,  1.0649569 ,  1.2079421 ,\n",
              "          2.2114356 ,  1.7754412 ,  0.5375842 , -1.5369682 , -0.10906131,\n",
              "          1.9134697 ]], dtype=float32),\n",
              " array([-1.7059095, -2.384474 , -4.793724 , -7.1056004, -6.313086 ,\n",
              "         4.2412615,  4.8454432, -2.0750625, -4.0784636, -3.5488005,\n",
              "        -1.2959131], dtype=float32),\n",
              " array([[ 0.31484926,  0.0804495 ,  0.7932805 ,  0.9928764 , -1.0221847 ,\n",
              "          1.2773503 , -2.4074874 ],\n",
              "        [ 1.9205703 , -9.784234  ,  1.3643011 ,  1.0926884 ,  2.1547754 ,\n",
              "         -3.4615717 , -0.79078543],\n",
              "        [-1.9669337 ,  1.2345691 ,  2.402637  ,  2.5086405 , -3.2663705 ,\n",
              "          1.100523  ,  1.3720626 ],\n",
              "        [ 2.0030768 ,  0.4924838 , -4.3520226 , -5.513368  , -2.9701307 ,\n",
              "         -5.7989106 ,  1.9510865 ],\n",
              "        [-1.4984837 ,  3.6755683 ,  5.148632  , -1.5328602 ,  4.1952057 ,\n",
              "          3.909127  , -3.9829392 ],\n",
              "        [-0.92229843, -3.0544918 , -6.582424  , -8.265695  , -1.4443362 ,\n",
              "         -2.2720287 ,  0.28690967],\n",
              "        [-0.8190958 , -3.1994784 , -4.5847206 , -1.5516522 , -1.5020522 ,\n",
              "         -3.8075523 ,  0.98902947],\n",
              "        [-4.149198  ,  2.304887  , -0.49837306,  0.39357823, -1.131311  ,\n",
              "          0.34108058, -2.712775  ],\n",
              "        [ 1.9338982 ,  1.2792313 ,  0.7325197 , -6.8845606 ,  0.5192304 ,\n",
              "          0.8318814 , -1.7450824 ],\n",
              "        [ 3.378697  , -2.8359027 , -0.83511186, -0.49388438,  2.1517117 ,\n",
              "         -1.186894  , -0.9990977 ],\n",
              "        [-3.303391  ,  0.36281168,  1.0501417 , -0.06170233, -6.7577114 ,\n",
              "          1.1817607 ,  1.7690763 ]], dtype=float32),\n",
              " array([-4.1321726 ,  0.71465427, -2.956803  , -3.481558  , -0.3078068 ,\n",
              "        -4.277244  ,  3.2844312 ], dtype=float32),\n",
              " array([[ 0.6334926 , -0.45248204, -1.1751118 , -0.54781634, -1.0544039 ,\n",
              "         -0.12068192],\n",
              "        [-1.283209  , -0.03587654, -1.2597848 , -3.08558   ,  0.36961156,\n",
              "         -1.0862064 ],\n",
              "        [ 0.7367072 , -0.21216258,  0.39798456,  2.035015  ,  1.8988703 ,\n",
              "         -0.13701086],\n",
              "        [-0.46277854, -0.04986907, -0.62290335, -2.4390013 ,  0.7925289 ,\n",
              "          0.03268449],\n",
              "        [-0.741075  , -0.08072109, -2.0736382 , -2.703759  ,  1.0463265 ,\n",
              "         -0.35606632],\n",
              "        [-1.8291026 , -0.1718517 , -1.1796902 , -1.7132162 ,  0.30435303,\n",
              "         -0.63246435],\n",
              "        [ 0.44530436, -2.3516743 ,  0.02613026,  0.06377196, -0.69795066,\n",
              "         -0.26943716]], dtype=float32),\n",
              " array([ 0.636233  , -0.33393824, -1.937932  , -4.8251767 ,  2.1687462 ,\n",
              "        -1.0463371 ], dtype=float32),\n",
              " array([[-0.25611874],\n",
              "        [-0.06142076],\n",
              "        [-0.00424598],\n",
              "        [-0.8784659 ],\n",
              "        [ 0.33697957],\n",
              "        [ 0.05306778]], dtype=float32),\n",
              " array([-1.3817972], dtype=float32)]"
            ]
          },
          "metadata": {},
          "execution_count": 54
        }
      ]
    },
    {
      "cell_type": "code",
      "source": [],
      "metadata": {
        "id": "ONxoB2Sa7HR6"
      },
      "execution_count": null,
      "outputs": []
    }
  ]
}